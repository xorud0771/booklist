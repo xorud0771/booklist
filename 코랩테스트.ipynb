{
  "nbformat": 4,
  "nbformat_minor": 0,
  "metadata": {
    "colab": {
      "provenance": [],
      "mount_file_id": "1AzK08l3Pq1TjNUQBn2aKAcYIn7Z8i7AS",
      "authorship_tag": "ABX9TyOuJDZrxmGxJ4ZjZzx4USDO",
      "include_colab_link": true
    },
    "kernelspec": {
      "name": "python3",
      "display_name": "Python 3"
    },
    "language_info": {
      "name": "python"
    }
  },
  "cells": [
    {
      "cell_type": "markdown",
      "metadata": {
        "id": "view-in-github",
        "colab_type": "text"
      },
      "source": [
        "<a href=\"https://colab.research.google.com/github/xorud0771/booklist/blob/main/%EC%BD%94%EB%9E%A9%ED%85%8C%EC%8A%A4%ED%8A%B8.ipynb\" target=\"_parent\"><img src=\"https://colab.research.google.com/assets/colab-badge.svg\" alt=\"Open In Colab\"/></a>"
      ]
    },
    {
      "cell_type": "code",
      "execution_count": null,
      "metadata": {
        "id": "enPlRTKWKEEX",
        "colab": {
          "base_uri": "https://localhost:8080/"
        },
        "outputId": "a0d0de0f-c4b6-4352-9627-ca1ae7ba565b"
      },
      "outputs": [
        {
          "output_type": "stream",
          "name": "stdout",
          "text": [
            "HI\n"
          ]
        }
      ],
      "source": [
        "print('HI')"
      ]
    },
    {
      "cell_type": "code",
      "source": [
        "%time\n",
        "\n",
        "import torch\n",
        "from torch import optim\n",
        "import torch.nn as nn\n",
        "import torch.nn.functional as F\n",
        "from torchvision.datasets import CIFAR10\n",
        "import torchvision.transforms as transforms\n",
        "from torch.utils.data import DataLoader"
      ],
      "metadata": {
        "colab": {
          "base_uri": "https://localhost:8080/"
        },
        "id": "tlBYHdZANyc3",
        "outputId": "00519f7f-af57-4cc3-be81-4849b60eaa7c"
      },
      "execution_count": null,
      "outputs": [
        {
          "output_type": "stream",
          "name": "stdout",
          "text": [
            "CPU times: user 3 µs, sys: 0 ns, total: 3 µs\n",
            "Wall time: 8.58 µs\n"
          ]
        }
      ]
    },
    {
      "cell_type": "code",
      "source": [
        "%%time\n",
        "\n",
        "device = torch.device('cuda:0' if torch.cuda.is_available() else 'cpu')\n",
        "print(device)\n",
        "\n",
        "cifar10_train = CIFAR10(\"./data\", train=True, download=True, transform=transforms.transforms.ToTensor())\n",
        "cifar10_test = CIFAR10(\"./data\", train=False, download=True, transform=transforms.transforms.ToTensor())\n",
        "\n",
        "batch_size = 64\n",
        "train_loader = DataLoader(cifar10_train, batch_size=batch_size, shuffle=True)\n",
        "test_loader = DataLoader(cifar10_test, batch_size=len(cifar10_test), shuffle=False)\n",
        "\n",
        "class Net(nn.Module):\n",
        "  def __init__(self): # __init__ 함수에 self 인자 추가\n",
        "    super(Net, self).__init__() # super() 함수를 사용하여 부모 클래스 초기화\n",
        "    self.conv1 = nn.Conv2d(3,6,5)\n",
        "    self.pool = nn.MaxPool2d(2,2)\n",
        "    self.conv2 = nn.Conv2d(6,16,5)\n",
        "    self.fc1 = nn.Linear(16*5*5, 256)\n",
        "    self.fc2 = nn.Linear(256,10)\n",
        "\n",
        "  def forward(self, x):\n",
        "    x = self.pool(F.relu(self.conv1(x)))\n",
        "    x = self.pool(F.relu(self.conv2(x)))\n",
        "    x = x.view(-1, 16*5*5)\n",
        "    x = F.relu(self.fc1(x)) # self.fc1을 통해 형태 변환 및 활성화 함수 적용\n",
        "    x = self.fc2(x) # self.fc2(x)로 수정\n",
        "    return x\n",
        "net = Net()\n",
        "if torch.cuda.is_available():\n",
        "  net.cuda()\n",
        "\n",
        "loss_fnc = nn.CrossEntropyLoss()\n",
        "optimizer = optim.Adam(net.parameters())\n",
        "\n",
        "record_loss_train = []\n",
        "record_loss_test = []\n",
        "\n",
        "x_test, t_test = next(iter(test_loader)) # t_test로 변수명 수정\n",
        "x_test, t_test = x_test.to(device), t_test.to(device) # t_test로 변수명 수정\n",
        "\n",
        "for i in range(10):\n",
        "  net.train()\n",
        "  loss_train = 0.0\n",
        "  for j, (x,t) in enumerate(train_loader):\n",
        "    x_train, y_train = x.to(device), t.to(device) # x_train, y_train 변수에 x, t 할당\n",
        "    y=net(x_train)\n",
        "    loss = loss_fnc(y,y_train)\n",
        "    loss_train =loss.item()\n",
        "    optimizer.zero_grad()\n",
        "    loss.backward()\n",
        "    optimizer.step()\n",
        "  loss_train /=(j+1)\n",
        "  record_loss_train.append(loss_train)\n",
        "\n",
        "  net.eval()\n",
        "  y_test = net(x_test)\n",
        "  loss_test = loss_fnc(y_test,t_test).item() # t_test로 변수명 수정\n",
        "  record_loss_test.append(loss_test)\n",
        "\n",
        "# if torch.cuda.is_available(): # for 루프 밖으로 이동\n",
        "#   x,t = x.cuda(), t.cuda( ) # for 루프 밖으로 이동, 필요 없는 코드 삭제"
      ],
      "metadata": {
        "colab": {
          "base_uri": "https://localhost:8080/"
        },
        "id": "00ARHTpK3_Cv",
        "outputId": "e5604bd7-e045-4297-c2fe-ae2f88b25986"
      },
      "execution_count": null,
      "outputs": [
        {
          "output_type": "stream",
          "name": "stdout",
          "text": [
            "cpu\n",
            "CPU times: user 4min 5s, sys: 8.11 s, total: 4min 13s\n",
            "Wall time: 4min 15s\n"
          ]
        }
      ]
    },
    {
      "cell_type": "code",
      "source": [],
      "metadata": {
        "id": "OSZXywv8Sa_V"
      },
      "execution_count": null,
      "outputs": []
    }
  ]
}